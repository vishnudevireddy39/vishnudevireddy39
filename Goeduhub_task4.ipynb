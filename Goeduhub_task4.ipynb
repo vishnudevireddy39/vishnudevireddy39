{
  "nbformat": 4,
  "nbformat_minor": 0,
  "metadata": {
    "colab": {
      "name": "Goeduhub task4",
      "provenance": [],
      "authorship_tag": "ABX9TyOoHO2At9CxmASjvRgvKR48",
      "include_colab_link": true
    },
    "kernelspec": {
      "name": "python3",
      "display_name": "Python 3"
    },
    "language_info": {
      "name": "python"
    }
  },
  "cells": [
    {
      "cell_type": "markdown",
      "metadata": {
        "id": "view-in-github",
        "colab_type": "text"
      },
      "source": [
        "<a href=\"https://colab.research.google.com/github/vishnudevireddy39/vishnudevireddy39/blob/main/Goeduhub_task4.ipynb\" target=\"_parent\"><img src=\"https://colab.research.google.com/assets/colab-badge.svg\" alt=\"Open In Colab\"/></a>"
      ]
    },
    {
      "cell_type": "markdown",
      "metadata": {
        "id": "pmBuU2ByVpwV"
      },
      "source": [
        "GO_STP_12120\n",
        "Task 4\n",
        "Vishnu vardhan"
      ]
    },
    {
      "cell_type": "markdown",
      "metadata": {
        "id": "WH7xGGeLV9G0"
      },
      "source": [
        "Vignan's Lara Institute of Technology and Science"
      ]
    },
    {
      "cell_type": "code",
      "metadata": {
        "colab": {
          "base_uri": "https://localhost:8080/"
        },
        "id": "VCZNqb2OMWCu",
        "outputId": "d8c9c213-6a74-4f29-9d08-ab8ce5f0d386"
      },
      "source": [
        "#1.Printing Version of numpy\n",
        "import numpy as np\n",
        "print(np.__version__)"
      ],
      "execution_count": 2,
      "outputs": [
        {
          "output_type": "stream",
          "text": [
            "1.19.5\n"
          ],
          "name": "stdout"
        }
      ]
    },
    {
      "cell_type": "code",
      "metadata": {
        "colab": {
          "base_uri": "https://localhost:8080/"
        },
        "id": "tgrV4oVQNHZ3",
        "outputId": "98bb465d-cd06-45d4-b50d-6f91f8746080"
      },
      "source": [
        "#2.Vector is also known as 1D array\n",
        "l=[10,20,30]\n",
        "arr=np.array(l)\n",
        "print(\"The Vector is: \",arr)"
      ],
      "execution_count": 3,
      "outputs": [
        {
          "output_type": "stream",
          "text": [
            "The Vector is:  [10 20 30]\n"
          ],
          "name": "stdout"
        }
      ]
    },
    {
      "cell_type": "code",
      "metadata": {
        "colab": {
          "base_uri": "https://localhost:8080/"
        },
        "id": "NUHPryEiN30X",
        "outputId": "c1790d41-1735-4121-a06a-b839adf3293c"
      },
      "source": [
        "#3.creating 1D array and checking type of array and datatypes in array\n",
        "l=[10,30,20,40]\n",
        "arr=np.array(l)\n",
        "print(type(arr))\n",
        "for i in arr:\n",
        "  print(\"the element \",i,\"type is \",type(i))"
      ],
      "execution_count": 5,
      "outputs": [
        {
          "output_type": "stream",
          "text": [
            "<class 'numpy.ndarray'>\n",
            "the element  10 type is  <class 'numpy.int64'>\n",
            "the element  30 type is  <class 'numpy.int64'>\n",
            "the element  20 type is  <class 'numpy.int64'>\n",
            "the element  40 type is  <class 'numpy.int64'>\n"
          ],
          "name": "stdout"
        }
      ]
    },
    {
      "cell_type": "code",
      "metadata": {
        "colab": {
          "base_uri": "https://localhost:8080/"
        },
        "id": "F1nfhjTSOacM",
        "outputId": "095baa93-dc6f-4c7a-90fd-e7ff9304bf6e"
      },
      "source": [
        "#4.finding no.of dimensions,bytes per element and bytes used by array\n",
        "arr=np.array([[10,20,30],[40,50,60]])\n",
        "print(\"dimensions of an array:\",arr.ndim)\n",
        "print(\"memory size per element:\",arr.itemsize)\n",
        "print(\"memory used by array:\",arr.size*arr.itemsize)"
      ],
      "execution_count": 10,
      "outputs": [
        {
          "output_type": "stream",
          "text": [
            "dimensions of an array: 2\n",
            "memory size per element: 8\n",
            "memory used by array: 48\n"
          ],
          "name": "stdout"
        }
      ]
    },
    {
      "cell_type": "code",
      "metadata": {
        "colab": {
          "base_uri": "https://localhost:8080/"
        },
        "id": "ZMY2_RxGP7ay",
        "outputId": "8e9af3af-8a4e-4e38-f09a-dfd476ac05df"
      },
      "source": [
        "#5.create null vector of size 10 and fifth element is 1\n",
        "a = np.zeros((10))\n",
        "print(a)\n",
        "a[4]=1\n",
        "print(a)"
      ],
      "execution_count": 11,
      "outputs": [
        {
          "output_type": "stream",
          "text": [
            "[0. 0. 0. 0. 0. 0. 0. 0. 0. 0.]\n",
            "[0. 0. 0. 0. 1. 0. 0. 0. 0. 0.]\n"
          ],
          "name": "stdout"
        }
      ]
    },
    {
      "cell_type": "code",
      "metadata": {
        "colab": {
          "base_uri": "https://localhost:8080/"
        },
        "id": "dRFuVL-CQ_OV",
        "outputId": "fe14ed8a-acef-4690-c4ac-88f9c2456d11"
      },
      "source": [
        "#6.creating a vector ranges from 10 to 49\n",
        "arr=np.arange(10,50)\n",
        "print(arr)"
      ],
      "execution_count": 12,
      "outputs": [
        {
          "output_type": "stream",
          "text": [
            "[10 11 12 13 14 15 16 17 18 19 20 21 22 23 24 25 26 27 28 29 30 31 32 33\n",
            " 34 35 36 37 38 39 40 41 42 43 44 45 46 47 48 49]\n"
          ],
          "name": "stdout"
        }
      ]
    },
    {
      "cell_type": "code",
      "metadata": {
        "colab": {
          "base_uri": "https://localhost:8080/"
        },
        "id": "-xT0czG1RNM6",
        "outputId": "2a26827a-f87f-4671-ec8b-706dc7aa91e7"
      },
      "source": [
        "#7.Reverse a vector \n",
        "arr=np.arange(1,20,3)\n",
        "print(arr[::-1])"
      ],
      "execution_count": 13,
      "outputs": [
        {
          "output_type": "stream",
          "text": [
            "[19 16 13 10  7  4  1]\n"
          ],
          "name": "stdout"
        }
      ]
    },
    {
      "cell_type": "code",
      "metadata": {
        "colab": {
          "base_uri": "https://localhost:8080/"
        },
        "id": "2YEb8gXPRfl6",
        "outputId": "25b37b15-fb1c-4392-ad53-608dc77ba0a4"
      },
      "source": [
        "#8. 3x3 matrix ranges from 0 to 8\n",
        "a = np.array([[0,1,2],[3,4,5],[6,7,8]])\n",
        "print(a)"
      ],
      "execution_count": 14,
      "outputs": [
        {
          "output_type": "stream",
          "text": [
            "[[0 1 2]\n",
            " [3 4 5]\n",
            " [6 7 8]]\n"
          ],
          "name": "stdout"
        }
      ]
    },
    {
      "cell_type": "code",
      "metadata": {
        "colab": {
          "base_uri": "https://localhost:8080/"
        },
        "id": "9lJx2-q-SBwT",
        "outputId": "eabea988-b98b-497d-c0f4-f360240896a8"
      },
      "source": [
        "#9.Find indices of non zero elements [1,2,0,0,4,0]\n",
        "a = np.array([1,2,0,0,4])\n",
        "ar =a.nonzero()\n",
        "print(ar)"
      ],
      "execution_count": 15,
      "outputs": [
        {
          "output_type": "stream",
          "text": [
            "(array([0, 1, 4]),)\n"
          ],
          "name": "stdout"
        }
      ]
    },
    {
      "cell_type": "code",
      "metadata": {
        "colab": {
          "base_uri": "https://localhost:8080/"
        },
        "id": "BQ8rolLySMDC",
        "outputId": "f62b4b41-29ea-4311-bbc5-049e7b370e84"
      },
      "source": [
        "#10.create 3x3 identity matrix\n",
        "arr=np.identity(3)\n",
        "print(arr)"
      ],
      "execution_count": 16,
      "outputs": [
        {
          "output_type": "stream",
          "text": [
            "[[1. 0. 0.]\n",
            " [0. 1. 0.]\n",
            " [0. 0. 1.]]\n"
          ],
          "name": "stdout"
        }
      ]
    },
    {
      "cell_type": "code",
      "metadata": {
        "colab": {
          "base_uri": "https://localhost:8080/"
        },
        "id": "9jIJwE-oSbc1",
        "outputId": "c4a29da4-c896-4b86-d9a6-1b88fbab02c4"
      },
      "source": [
        "#11.create a 3x3x3 array with random values\n",
        "arr=np.arange(1,28).reshape(3,3,3)\n",
        "print(arr)"
      ],
      "execution_count": 17,
      "outputs": [
        {
          "output_type": "stream",
          "text": [
            "[[[ 1  2  3]\n",
            "  [ 4  5  6]\n",
            "  [ 7  8  9]]\n",
            "\n",
            " [[10 11 12]\n",
            "  [13 14 15]\n",
            "  [16 17 18]]\n",
            "\n",
            " [[19 20 21]\n",
            "  [22 23 24]\n",
            "  [25 26 27]]]\n"
          ],
          "name": "stdout"
        }
      ]
    },
    {
      "cell_type": "code",
      "metadata": {
        "colab": {
          "base_uri": "https://localhost:8080/"
        },
        "id": "3IoazPjmSx7m",
        "outputId": "edc7b030-1c53-4f03-f217-fafed9c2dc5f"
      },
      "source": [
        "#12.create 10x10 array with random values and find min and max\n",
        "arr=np.random.randint(1000,size=(10,10))\n",
        "print(arr)\n",
        "print(arr.min(),\" is the minimum value\")\n",
        "print(arr.max(),\" is the maximum value\")"
      ],
      "execution_count": 19,
      "outputs": [
        {
          "output_type": "stream",
          "text": [
            "[[317 140 503 820 130 720 575 607 169   5]\n",
            " [421  70 101 774 351 521   0 304 881 340]\n",
            " [ 24 531 642 559 961 950 271 718  29 572]\n",
            " [685 475 348 565  44 450 595 758  97 900]\n",
            " [432 748 413 729 733 540 863 153 755  79]\n",
            " [332 896 754 203 522 770 433 478 719 734]\n",
            " [631 700 113 875 577 699  98  24  70  95]\n",
            " [410 305 446 487   2 272 599 929 952 300]\n",
            " [965 711 717 865 250 868 466 742  25 889]\n",
            " [920 556 582 176 894 952 554 956 319 778]]\n",
            "0  is the minimum value\n",
            "965  is the maximum value\n"
          ],
          "name": "stdout"
        }
      ]
    },
    {
      "cell_type": "code",
      "metadata": {
        "colab": {
          "base_uri": "https://localhost:8080/"
        },
        "id": "322a4r1eTXwy",
        "outputId": "60a865fc-aec4-48bd-9c80-75635dd6edb4"
      },
      "source": [
        "#13.create a random vector of size 30 and find mean value\n",
        "arr=np.random.randint(1000,size=30)\n",
        "print(arr)\n",
        "print(\"The mean is \",arr.mean())"
      ],
      "execution_count": 20,
      "outputs": [
        {
          "output_type": "stream",
          "text": [
            "[762 518 269 170 770 159 689 912 961 854 626 273 194 273 471 798 838 432\n",
            " 380 425 982 995 634 793 258 248 245 807 509 135]\n",
            "The mean is  546.0\n"
          ],
          "name": "stdout"
        }
      ]
    },
    {
      "cell_type": "code",
      "metadata": {
        "colab": {
          "base_uri": "https://localhost:8080/"
        },
        "id": "70X1-QWmTz6V",
        "outputId": "381bed56-9ee6-44f2-9bbb-591e6a79992a"
      },
      "source": [
        "#14.create a 2D array with borders ones and inside zeroes\n",
        "arr=np.ones((7,7),dtype=int)\n",
        "arr[1:-1,1:-1]=0\n",
        "print(arr)"
      ],
      "execution_count": 21,
      "outputs": [
        {
          "output_type": "stream",
          "text": [
            "[[1 1 1 1 1 1 1]\n",
            " [1 0 0 0 0 0 1]\n",
            " [1 0 0 0 0 0 1]\n",
            " [1 0 0 0 0 0 1]\n",
            " [1 0 0 0 0 0 1]\n",
            " [1 0 0 0 0 0 1]\n",
            " [1 1 1 1 1 1 1]]\n"
          ],
          "name": "stdout"
        }
      ]
    },
    {
      "cell_type": "code",
      "metadata": {
        "colab": {
          "base_uri": "https://localhost:8080/"
        },
        "id": "Qa4zmA_EUezf",
        "outputId": "ea93164a-7b11-4249-88bc-8f599a4c6114"
      },
      "source": [
        "#15.add a border filled with zeroes in a 2D array\n",
        "arr=np.ones((6,6),dtype=int)\n",
        "print(arr)"
      ],
      "execution_count": 22,
      "outputs": [
        {
          "output_type": "stream",
          "text": [
            "[[1 1 1 1 1 1]\n",
            " [1 1 1 1 1 1]\n",
            " [1 1 1 1 1 1]\n",
            " [1 1 1 1 1 1]\n",
            " [1 1 1 1 1 1]\n",
            " [1 1 1 1 1 1]]\n"
          ],
          "name": "stdout"
        }
      ]
    },
    {
      "cell_type": "code",
      "metadata": {
        "colab": {
          "base_uri": "https://localhost:8080/"
        },
        "id": "VZAtD1FgU1G_",
        "outputId": "d7372377-9239-41fb-ff31-48eaa0fc4d85"
      },
      "source": [
        "print(arr.shape)\n",
        "arr = np.pad(arr,pad_width=1,mode='constant',constant_values=0)\n",
        "print(arr)\n",
        "print(arr.shape)"
      ],
      "execution_count": 23,
      "outputs": [
        {
          "output_type": "stream",
          "text": [
            "(6, 6)\n",
            "[[0 0 0 0 0 0 0 0]\n",
            " [0 1 1 1 1 1 1 0]\n",
            " [0 1 1 1 1 1 1 0]\n",
            " [0 1 1 1 1 1 1 0]\n",
            " [0 1 1 1 1 1 1 0]\n",
            " [0 1 1 1 1 1 1 0]\n",
            " [0 1 1 1 1 1 1 0]\n",
            " [0 0 0 0 0 0 0 0]]\n",
            "(8, 8)\n"
          ],
          "name": "stdout"
        }
      ]
    },
    {
      "cell_type": "code",
      "metadata": {
        "colab": {
          "base_uri": "https://localhost:8080/"
        },
        "id": "S5gPnBLUVDKT",
        "outputId": "3d0109e2-eead-4faf-e3e1-730ded5da1f1"
      },
      "source": [
        "#16.accessing,modifying elements in a 2D array\n",
        "\n",
        "a = np.array([[ 1 ,2 ,3, 4, 5, 6 ,7],[ 8, 9, 10, 11, 12, 13, 14]])\n",
        "print(a)\n",
        "print(a.ndim)"
      ],
      "execution_count": 24,
      "outputs": [
        {
          "output_type": "stream",
          "text": [
            "[[ 1  2  3  4  5  6  7]\n",
            " [ 8  9 10 11 12 13 14]]\n",
            "2\n"
          ],
          "name": "stdout"
        }
      ]
    },
    {
      "cell_type": "code",
      "metadata": {
        "colab": {
          "base_uri": "https://localhost:8080/"
        },
        "id": "7iwoK-eoVWpl",
        "outputId": "7e093681-dc01-4797-bdb2-c5b87b35c74c"
      },
      "source": [
        "print(a[1][2:])"
      ],
      "execution_count": 25,
      "outputs": [
        {
          "output_type": "stream",
          "text": [
            "[10 11 12 13 14]\n"
          ],
          "name": "stdout"
        }
      ]
    },
    {
      "cell_type": "code",
      "metadata": {
        "colab": {
          "base_uri": "https://localhost:8080/"
        },
        "id": "5IaEF0wtVgtl",
        "outputId": "0173a5c9-a8d6-47ca-acf9-cdfe6fe36bf5"
      },
      "source": [
        "print(a[0])"
      ],
      "execution_count": 26,
      "outputs": [
        {
          "output_type": "stream",
          "text": [
            "[1 2 3 4 5 6 7]\n"
          ],
          "name": "stdout"
        }
      ]
    },
    {
      "cell_type": "code",
      "metadata": {
        "colab": {
          "base_uri": "https://localhost:8080/"
        },
        "id": "2Wt4U1geVj7y",
        "outputId": "5df9526e-42cf-438d-f6cb-1d40b8478b20"
      },
      "source": [
        "a[1][3]=34\n",
        "print(a)"
      ],
      "execution_count": 27,
      "outputs": [
        {
          "output_type": "stream",
          "text": [
            "[[ 1  2  3  4  5  6  7]\n",
            " [ 8  9 10 34 12 13 14]]\n"
          ],
          "name": "stdout"
        }
      ]
    }
  ]
}